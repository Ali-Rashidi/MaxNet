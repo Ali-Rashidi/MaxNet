{
 "cells": [
  {
   "cell_type": "markdown",
   "id": "adaecaf2",
   "metadata": {},
   "source": [
    "# MaxNet\n",
    "MaxNet is a neural network which can find the biggest number in a list of numbers."
   ]
  },
  {
   "cell_type": "code",
   "execution_count": 9,
   "id": "6e180973",
   "metadata": {},
   "outputs": [
    {
     "name": "stdout",
     "output_type": "stream",
     "text": [
      "x = \n",
      "[1.2  1.1  1.   0.9  0.95 1.15]\n",
      "**************************** \n",
      "W = \n",
      "[[ 1.   -0.15 -0.15 -0.15 -0.15 -0.15]\n",
      " [-0.15  1.   -0.15 -0.15 -0.15 -0.15]\n",
      " [-0.15 -0.15  1.   -0.15 -0.15 -0.15]\n",
      " [-0.15 -0.15 -0.15  1.   -0.15 -0.15]\n",
      " [-0.15 -0.15 -0.15 -0.15  1.   -0.15]\n",
      " [-0.15 -0.15 -0.15 -0.15 -0.15  1.  ]]\n"
     ]
    }
   ],
   "source": [
    "## Assume we wanna find the maximum in the following list [1.2, 1.1, 1 , 0.9, 0.95 , 1.15]\n",
    "## By doing some modification on this network we can also specify the order of numbers in ascending or descending mode\n",
    "## and also we can make a MinNet\n",
    "## Epslion should be a number smaller the ( 1 / length of the list)\n",
    "\n",
    "import numpy as np\n",
    "X=np.array([1.2, 1.1, 1 , 0.9, 0.95 , 1.15])\n",
    "eps=0.15\n",
    "W=np.eye(6,6)\n",
    "for i in range(6):\n",
    "  for j in range(6):\n",
    "    if i!=j:\n",
    "      W[i,j]=-eps\n",
    "print(\"x = \")\n",
    "print(X)\n",
    "print(\"**************************** \")\n",
    "print(\"W = \")\n",
    "print(W)"
   ]
  },
  {
   "cell_type": "code",
   "execution_count": 10,
   "id": "ea781886",
   "metadata": {},
   "outputs": [],
   "source": [
    "# Activation Function\n",
    "def act(x, th=0):\n",
    "  if x>=th:\n",
    "    return x\n",
    "  else: return 0\n",
    "\n",
    "#MaxNet\n",
    "def maxnet( X , th , eps , show):\n",
    "  stop=False\n",
    "  A=np.copy(X)\n",
    "  A_old=np.copy(A)\n",
    "  while stop==False :\n",
    "    for i in range(X.shape[0]):\n",
    "      A[i]=act ( A_old[i] - eps*(sum(A_old)-A_old[i]) , th=th)\n",
    "    A_old=np.copy(A)\n",
    "    if show==True :\n",
    "      print(A)\n",
    "    if np.count_nonzero(A)==1:\n",
    "      stop=True\n",
    "      max_arg=np.array(np.argwhere(A!=0)).ravel()\n",
    "      max=np.array(X[max_arg]).ravel()\n",
    "      if show==True:\n",
    "        print(\"MAX : \" + str(max) )\n",
    "  return max, max_arg\n",
    "\n",
    "#Descending Order\n",
    "def max_order(X,th,eps):\n",
    "  y=np.copy(X)\n",
    "  order=[]\n",
    "  for i in range(y.shape[0]):\n",
    "    max , max_arg=maxnet( X=y , th=th , eps=eps , show=False)\n",
    "    order.append(max)\n",
    "    y=np.delete(y, max_arg)\n",
    "  print(order)\n",
    "\n",
    "#Ascending Order\n",
    "def min_order(X,th,eps):\n",
    "  y=1/np.copy(X)\n",
    "  order=[]\n",
    "  for i in range(y.shape[0]):\n",
    "    max , max_arg=maxnet( X=y , th=th , eps=eps , show=False)\n",
    "    order.append(1/max)\n",
    "    y=np.delete(y, max_arg)\n",
    "  print(order)"
   ]
  },
  {
   "cell_type": "code",
   "execution_count": 11,
   "id": "2e3d3ec4",
   "metadata": {},
   "outputs": [
    {
     "name": "stdout",
     "output_type": "stream",
     "text": [
      "[0.435  0.32   0.205  0.09   0.1475 0.3775]\n",
      "[0.264    0.13175  0.       0.       0.       0.197875]\n",
      "[0.21455625 0.06246875 0.         0.         0.         0.1385125 ]\n",
      "[0.18440906 0.00950844 0.         0.         0.         0.09695875]\n",
      "[0.16843898 0.         0.         0.         0.         0.06787112]\n",
      "[0.15825832 0.         0.         0.         0.         0.04260528]\n",
      "[0.15186752 0.         0.         0.         0.         0.01886653]\n",
      "[0.14903754 0.         0.         0.         0.         0.        ]\n",
      "MAX : [1.2]\n"
     ]
    },
    {
     "data": {
      "text/plain": [
       "(array([1.2]), array([0], dtype=int64))"
      ]
     },
     "execution_count": 11,
     "metadata": {},
     "output_type": "execute_result"
    }
   ],
   "source": [
    "eps=0.15\n",
    "th=0\n",
    "maxnet( X , th=th , eps=eps,show=True)"
   ]
  },
  {
   "cell_type": "code",
   "execution_count": 12,
   "id": "808fc8fd",
   "metadata": {},
   "outputs": [
    {
     "name": "stdout",
     "output_type": "stream",
     "text": [
      "[array([1.2]), array([1.15]), array([1.1]), array([1.]), array([0.95]), array([0.9])]\n"
     ]
    }
   ],
   "source": [
    "max_order(X=X,th=0,eps=eps)"
   ]
  },
  {
   "cell_type": "code",
   "execution_count": 13,
   "id": "f39c97d2",
   "metadata": {},
   "outputs": [
    {
     "name": "stdout",
     "output_type": "stream",
     "text": [
      "[array([0.9]), array([0.95]), array([1.]), array([1.1]), array([1.15]), array([1.2])]\n"
     ]
    }
   ],
   "source": [
    "min_order(X=X,th=0,eps=eps)"
   ]
  }
 ],
 "metadata": {
  "kernelspec": {
   "display_name": "Python 3 (ipykernel)",
   "language": "python",
   "name": "python3"
  },
  "language_info": {
   "codemirror_mode": {
    "name": "ipython",
    "version": 3
   },
   "file_extension": ".py",
   "mimetype": "text/x-python",
   "name": "python",
   "nbconvert_exporter": "python",
   "pygments_lexer": "ipython3",
   "version": "3.9.12"
  }
 },
 "nbformat": 4,
 "nbformat_minor": 5
}
